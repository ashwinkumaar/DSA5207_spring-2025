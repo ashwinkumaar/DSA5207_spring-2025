{
 "cells": [
  {
   "cell_type": "markdown",
   "metadata": {},
   "source": [
    "We will use the autograd function in the MXNet framework, thus all data going through the computation graph should be `ndarrays`.\n",
    "In this notebook you will learn the basics of the NumPy package and MXNet's extensions to it."
   ]
  },
  {
   "cell_type": "markdown",
   "metadata": {},
   "source": [
    "To get started, let's import the numpy namespace from MXNet as `np`. For the most parts, you can use it as ordinary `numpy`."
   ]
  },
  {
   "cell_type": "code",
   "metadata": {
    "ExecuteTime": {
     "end_time": "2025-03-31T09:51:11.057617Z",
     "start_time": "2025-03-31T09:51:11.048646Z"
    }
   },
   "source": [
    "import mxnet as mx\n",
    "from mxnet import np, npx\n",
    "import numpy as onp"
   ],
   "outputs": [],
   "execution_count": 5
  },
  {
   "cell_type": "markdown",
   "metadata": {},
   "source": [
    "### Create arrays\n",
    "Let's see how to create a 2-D array with values from two sets of numbers: 1, 2, 3 and 4, 5, 6.\n",
    "For the homework we will do everything on a CPU so we don't have to specify the `ctx` argument."
   ]
  },
  {
   "cell_type": "code",
   "metadata": {
    "ExecuteTime": {
     "end_time": "2025-03-31T09:51:11.087282Z",
     "start_time": "2025-03-31T09:51:11.066339Z"
    }
   },
   "source": [
    "# set ctx=mx.gpu(0) to create one on a GPU\n",
    "a = np.array(((1,2,3),(5,6,7)), ctx=mx.cpu())\n",
    "a"
   ],
   "outputs": [
    {
     "data": {
      "text/plain": [
       "array([[1., 2., 3.],\n",
       "       [5., 6., 7.]])"
      ]
     },
     "execution_count": 6,
     "metadata": {},
     "output_type": "execute_result"
    }
   ],
   "execution_count": 6
  },
  {
   "cell_type": "markdown",
   "metadata": {},
   "source": [
    "### Inspect an ndarray's attributes\n",
    "As with NumPy, the dimensions of each ndarray are accessible by accessing the .shape attribute. We can also query its size, which is equal to the product of the components of the shape. In addition, .dtype tells the data type of the stored values."
   ]
  },
  {
   "cell_type": "code",
   "metadata": {
    "ExecuteTime": {
     "end_time": "2025-03-31T09:51:11.165108Z",
     "start_time": "2025-03-31T09:51:11.150142Z"
    }
   },
   "source": [
    "(a.shape, a.size, a.dtype, a.context)"
   ],
   "outputs": [
    {
     "data": {
      "text/plain": [
       "((2, 3), 6, dtype('float32'), cpu(0))"
      ]
     },
     "execution_count": 7,
     "metadata": {},
     "output_type": "execute_result"
    }
   ],
   "execution_count": 7
  },
  {
   "cell_type": "markdown",
   "metadata": {},
   "source": [
    "### Create a 2-D Array of Ones\n",
    "We can also create a very simple matrix with the same shape (2 rows by 3 columns), but fill it with 1s."
   ]
  },
  {
   "cell_type": "code",
   "metadata": {
    "ExecuteTime": {
     "end_time": "2025-03-31T09:51:11.272256Z",
     "start_time": "2025-03-31T09:51:11.258294Z"
    }
   },
   "source": [
    "ones = np.ones((2,3))\n",
    "ones"
   ],
   "outputs": [
    {
     "data": {
      "text/plain": [
       "array([[1., 1., 1.],\n",
       "       [1., 1., 1.]])"
      ]
     },
     "execution_count": 8,
     "metadata": {},
     "output_type": "execute_result"
    }
   ],
   "execution_count": 8
  },
  {
   "cell_type": "markdown",
   "metadata": {},
   "source": [
    "### Create an Array of Random Values\n",
    "Often we’ll want to create arrays whose values are sampled randomly. For example, sampling values uniformly between -1 and 1. Here we create the same shape, but with random sampling."
   ]
  },
  {
   "cell_type": "code",
   "metadata": {
    "ExecuteTime": {
     "end_time": "2025-03-31T09:51:11.409023Z",
     "start_time": "2025-03-31T09:51:11.395678Z"
    }
   },
   "source": [
    "rand_uniform = np.random.uniform(-1,1,size=(3,3))\n",
    "rand_uniform"
   ],
   "outputs": [
    {
     "data": {
      "text/plain": [
       "array([[ 0.09762704,  0.18568921,  0.43037868],\n",
       "       [ 0.6885315 ,  0.20552671,  0.71589124],\n",
       "       [ 0.08976638,  0.6945034 , -0.15269041]])"
      ]
     },
     "execution_count": 9,
     "metadata": {},
     "output_type": "execute_result"
    }
   ],
   "execution_count": 9
  },
  {
   "cell_type": "markdown",
   "metadata": {},
   "source": [
    "### Array indexing\n",
    "Here’s an example of reading a particular element, which returns a 1D array with shape (1,)."
   ]
  },
  {
   "cell_type": "code",
   "metadata": {
    "ExecuteTime": {
     "end_time": "2025-03-31T09:51:11.502269Z",
     "start_time": "2025-03-31T09:51:11.489304Z"
    }
   },
   "source": [
    "a[1,2]"
   ],
   "outputs": [
    {
     "data": {
      "text/plain": [
       "array([7.])"
      ]
     },
     "execution_count": 10,
     "metadata": {},
     "output_type": "execute_result"
    }
   ],
   "execution_count": 10
  },
  {
   "cell_type": "code",
   "metadata": {
    "ExecuteTime": {
     "end_time": "2025-03-31T09:51:11.688307Z",
     "start_time": "2025-03-31T09:51:11.675342Z"
    }
   },
   "source": [
    "a[:,1:3]"
   ],
   "outputs": [
    {
     "data": {
      "text/plain": [
       "array([[2., 3.],\n",
       "       [6., 7.]])"
      ]
     },
     "execution_count": 11,
     "metadata": {},
     "output_type": "execute_result"
    }
   ],
   "execution_count": 11
  },
  {
   "cell_type": "code",
   "metadata": {
    "ExecuteTime": {
     "end_time": "2025-03-31T09:51:11.842362Z",
     "start_time": "2025-03-31T09:51:11.828405Z"
    }
   },
   "source": [
    "a[-1]"
   ],
   "outputs": [
    {
     "data": {
      "text/plain": [
       "array([5., 6., 7.])"
      ]
     },
     "execution_count": 12,
     "metadata": {},
     "output_type": "execute_result"
    }
   ],
   "execution_count": 12
  },
  {
   "cell_type": "code",
   "metadata": {
    "ExecuteTime": {
     "end_time": "2025-03-31T09:51:12.071306Z",
     "start_time": "2025-03-31T09:51:12.057342Z"
    }
   },
   "source": [
    "a[:,1:3] = 2\n",
    "a"
   ],
   "outputs": [
    {
     "data": {
      "text/plain": [
       "array([[1., 2., 2.],\n",
       "       [5., 2., 2.]])"
      ]
     },
     "execution_count": 13,
     "metadata": {},
     "output_type": "execute_result"
    }
   ],
   "execution_count": 13
  },
  {
   "cell_type": "code",
   "metadata": {
    "ExecuteTime": {
     "end_time": "2025-03-31T09:51:12.177382Z",
     "start_time": "2025-03-31T09:51:12.164416Z"
    }
   },
   "source": [
    "a[1:2,0:2] = 4\n",
    "a"
   ],
   "outputs": [
    {
     "data": {
      "text/plain": [
       "array([[1., 2., 2.],\n",
       "       [4., 4., 2.]])"
      ]
     },
     "execution_count": 14,
     "metadata": {},
     "output_type": "execute_result"
    }
   ],
   "execution_count": 14
  },
  {
   "cell_type": "markdown",
   "metadata": {},
   "source": [
    "### Converting between MXNet and NumPy\n",
    "Converting MXNet ndarrays to and from NumPy is easy."
   ]
  },
  {
   "cell_type": "code",
   "metadata": {
    "ExecuteTime": {
     "end_time": "2025-03-31T09:51:12.395268Z",
     "start_time": "2025-03-31T09:51:12.381305Z"
    }
   },
   "source": [
    "a_np = a.asnumpy()\n",
    "type(a_np)"
   ],
   "outputs": [
    {
     "data": {
      "text/plain": [
       "numpy.ndarray"
      ]
     },
     "execution_count": 15,
     "metadata": {},
     "output_type": "execute_result"
    }
   ],
   "execution_count": 15
  },
  {
   "cell_type": "markdown",
   "metadata": {},
   "source": [
    "We can also convert NumPy arrays to MXNet.\n"
   ]
  },
  {
   "cell_type": "code",
   "metadata": {
    "scrolled": true,
    "ExecuteTime": {
     "end_time": "2025-03-31T09:51:13.113056Z",
     "start_time": "2025-03-31T09:51:12.504651Z"
    }
   },
   "source": [
    "type(npx.from_numpy(a_np))"
   ],
   "outputs": [
    {
     "ename": "AttributeError",
     "evalue": "module 'mxnet.numpy_extension' has no attribute 'from_numpy'",
     "output_type": "error",
     "traceback": [
      "\u001B[1;31m---------------------------------------------------------------------------\u001B[0m",
      "\u001B[1;31mAttributeError\u001B[0m                            Traceback (most recent call last)",
      "Cell \u001B[1;32mIn[16], line 1\u001B[0m\n\u001B[1;32m----> 1\u001B[0m \u001B[38;5;28mtype\u001B[39m(\u001B[43mnpx\u001B[49m\u001B[38;5;241;43m.\u001B[39;49m\u001B[43mfrom_numpy\u001B[49m(a_np))\n",
      "\u001B[1;31mAttributeError\u001B[0m: module 'mxnet.numpy_extension' has no attribute 'from_numpy'"
     ]
    }
   ],
   "execution_count": 16
  },
  {
   "cell_type": "markdown",
   "metadata": {},
   "source": [
    "### Check for documentation of a function\n",
    "Type \"?\" after a function ot check its documentation."
   ]
  },
  {
   "cell_type": "code",
   "execution_count": 17,
   "metadata": {},
   "outputs": [],
   "source": [
    "np.equal?"
   ]
  },
  {
   "cell_type": "markdown",
   "metadata": {},
   "source": [
    "### Useful functions for the homework"
   ]
  },
  {
   "cell_type": "markdown",
   "metadata": {},
   "source": [
    "Check if two arrays are equal."
   ]
  },
  {
   "cell_type": "code",
   "execution_count": 18,
   "metadata": {},
   "outputs": [
    {
     "data": {
      "text/plain": [
       "array([ True,  True, False])"
      ]
     },
     "execution_count": 18,
     "metadata": {},
     "output_type": "execute_result"
    }
   ],
   "source": [
    "b = np.array([1,2,3])\n",
    "np.equal(a[0, :], b)"
   ]
  },
  {
   "cell_type": "code",
   "execution_count": 20,
   "metadata": {},
   "outputs": [
    {
     "data": {
      "text/plain": [
       "array([[[1., 2., 2.]],\n",
       "\n",
       "       [[4., 4., 2.]]])"
      ]
     },
     "execution_count": 20,
     "metadata": {},
     "output_type": "execute_result"
    }
   ],
   "source": [
    "b = np.expand_dims(a, 1)\n",
    "b.shape\n",
    "b"
   ]
  }
 ],
 "metadata": {
  "kernelspec": {
   "display_name": "Python 3 (ipykernel)",
   "language": "python",
   "name": "python3"
  },
  "language_info": {
   "codemirror_mode": {
    "name": "ipython",
    "version": 3
   },
   "file_extension": ".py",
   "mimetype": "text/x-python",
   "name": "python",
   "nbconvert_exporter": "python",
   "pygments_lexer": "ipython3",
   "version": "3.8.5"
  }
 },
 "nbformat": 4,
 "nbformat_minor": 4
}
